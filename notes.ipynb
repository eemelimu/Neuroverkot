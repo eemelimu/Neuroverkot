{
 "cells": [
  {
   "cell_type": "markdown",
   "metadata": {},
   "source": [
    "#### Luodaan kernel virtuaaliympäristö condalla. \n",
    "\n",
    "```bash\n",
    "\n",
    "# Päivitetään conda \n",
    "conda update conda\n",
    "\n",
    "conda create --name 'nimi' numpy matplotlib\n",
    "\n",
    "conda activate 'nimi'\n",
    "\n",
    "https://pytorch.org/get-started/locally/\n",
    "\n",
    "conda install notebook jupyterlab\n",
    "\n",
    "pip install --upgarade keras tensorflow\n",
    "\n",
    "```\n"
   ]
  },
  {
   "cell_type": "markdown",
   "metadata": {},
   "source": []
  }
 ],
 "metadata": {
  "kernelspec": {
   "display_name": "base",
   "language": "python",
   "name": "python3"
  },
  "language_info": {
   "codemirror_mode": {
    "name": "ipython",
    "version": 3
   },
   "file_extension": ".py",
   "mimetype": "text/x-python",
   "name": "python",
   "nbconvert_exporter": "python",
   "pygments_lexer": "ipython3",
   "version": "3.11.7"
  }
 },
 "nbformat": 4,
 "nbformat_minor": 2
}
