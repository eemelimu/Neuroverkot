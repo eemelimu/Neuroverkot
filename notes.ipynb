{
 "cells": [
  {
   "cell_type": "markdown",
   "metadata": {},
   "source": [
    "#### Luodaan kernel virtuaaliympäristö anacondalla\n",
    "\n",
    "```bash\n",
    "\n",
    "# Päivitetään conda \n",
    "conda update conda\n",
    "\n",
    "# Luodaan uusi virtuaaliympäristö nimeltä 'nimi' ja asennetaan siihen numpy ja matplotlib\n",
    "conda create --name 'nimi' numpy matplotlib\n",
    "\n",
    "# Aktivoidaan virtuaaliympäristö\n",
    "conda activate 'nimi'\n",
    "\n",
    "# Linkistä löytää pytorchin asennuskomennon\n",
    "https://pytorch.org/get-started/locally/\n",
    "\n",
    "# Asennetaan tarvitut kirjastot\n",
    "conda install ipykernel\n",
    "```\n"
   ]
  },
  {
   "cell_type": "markdown",
   "metadata": {},
   "source": [
    "### Neuroverkot\n",
    "#### Koekysymyksiä:\n",
    "- Luettele erilaisia regularisointimenetelmiä, jos ylioppimista halutaan vähentää.\n",
    "- Backpropagation algoritmi on yksi yleisimmistä neuroverkkojen oppimisalgoritmeista. Miten se toimii?\n",
    "- **Residuaalinen yhteys (residual connection)** on ikäänkuin ohitustie, joka kiertää jonkin mallin kerroksen, mikä on yhdistettynä tähän residuaaliseen kerrokseen."
   ]
  },
  {
   "cell_type": "markdown",
   "metadata": {},
   "source": [
    "### Matikka\n",
    "Lue:\n",
    "- Yhdistetyn funktion derivaatta"
   ]
  },
  {
   "cell_type": "markdown",
   "metadata": {},
   "source": []
  }
 ],
 "metadata": {
  "kernelspec": {
   "display_name": "nvidiaGPU",
   "language": "python",
   "name": "python3"
  },
  "language_info": {
   "codemirror_mode": {
    "name": "ipython",
    "version": 3
   },
   "file_extension": ".py",
   "mimetype": "text/x-python",
   "name": "python",
   "nbconvert_exporter": "python",
   "pygments_lexer": "ipython3",
   "version": "3.12.7"
  }
 },
 "nbformat": 4,
 "nbformat_minor": 2
}
