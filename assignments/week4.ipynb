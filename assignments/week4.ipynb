{
 "cells": [
  {
   "cell_type": "code",
   "execution_count": 12,
   "metadata": {},
   "outputs": [],
   "source": [
    "import numpy as np\n",
    "from sklearn.metrics.pairwise import cosine_similarity"
   ]
  },
  {
   "cell_type": "code",
   "execution_count": null,
   "metadata": {},
   "outputs": [],
   "source": [
    "# haetaan vektorit sanoille man, woman ja king, sitten suoritetaan laskutoimitus: woman - man + king\n",
    "def load_glove_embeddings():\n",
    "    embeddings = {}\n",
    "    with open('../assets/glove.6B.100d.txt', 'r', encoding='utf-8') as f:\n",
    "        for line in f:\n",
    "            values = line.split()\n",
    "            word = values[0]\n",
    "            vector = np.array(values[1:], dtype='float32')\n",
    "            embeddings[word] = vector\n",
    "    return embeddings\n",
    "\n",
    "embeddings = load_glove_embeddings()\n",
    "\n",
    "vec_man = embeddings[\"man\"]\n",
    "vec_woman = embeddings[\"woman\"]\n",
    "vec_king = embeddings[\"king\"]\n",
    "\n",
    "result_vector = vec_woman - vec_man + vec_king"
   ]
  },
  {
   "cell_type": "code",
   "execution_count": null,
   "metadata": {},
   "outputs": [
    {
     "name": "stdout",
     "output_type": "stream",
     "text": [
      "queen\n"
     ]
    }
   ],
   "source": [
    "# suodatetaan sanat pois, jotka liittyvät laskentaan koska haittaavat tulosta\n",
    "excluded_words = {\"man\", \"woman\", \"king\"}\n",
    "filtered_embeddings = {word: embeddings[word] for word in embeddings if word not in excluded_words}\n",
    "\n",
    "# tehään uusi lista sanoista ja vektoreista\n",
    "filtered_words = list(filtered_embeddings.keys())\n",
    "filtered_vectors = np.array(list(filtered_embeddings.values()))\n",
    "\n",
    "# lasketaan kosinietäisyydet ja etsitään lähin sana\n",
    "result = result_vector.reshape(1, -1)\n",
    "similarities = cosine_similarity(result, filtered_vectors)\n",
    "\n",
    "closest_word_idx = np.argmax(similarities)\n",
    "closest_word = filtered_words[closest_word_idx]\n",
    "\n",
    "print(closest_word)"
   ]
  },
  {
   "cell_type": "code",
   "execution_count": 27,
   "metadata": {},
   "outputs": [
    {
     "name": "stdout",
     "output_type": "stream",
     "text": [
      "queen: 0.78\n",
      "monarch: 0.69\n",
      "throne: 0.68\n",
      "daughter: 0.68\n",
      "prince: 0.67\n",
      "princess: 0.66\n",
      "mother: 0.66\n",
      "elizabeth: 0.66\n",
      "father: 0.64\n",
      "wife: 0.64\n"
     ]
    }
   ],
   "source": [
    "# tulostetaan 10 läheisintä sanaa ja niiden etäisyydet tarkastelun vuoksi\n",
    "closest_word_indices = np.argsort(similarities[0])[::-1]\n",
    "for i in range(10):\n",
    "    word = filtered_words[closest_word_indices[i]]\n",
    "    similarity = similarities[0, closest_word_indices[i]]\n",
    "    print(f\"{word}: {similarity:.2f}\")"
   ]
  },
  {
   "cell_type": "markdown",
   "metadata": {},
   "source": [
    "#### Kun mallissa vähennetään 'man' sanan vektori 'woman' sanasta, saadaan ero naisen ja miehen välillä. Lisäämällä 'king' taas saadaan tulokseksi vektori, joka edustaa roolia 'queen', sillä ero kuninkaan ja kuningattaren välillä on sama kuin ero miehen ja naisen välillä. Tulos on siis vektori, joka vastaa nasita, mutta kuningattaren roolissa."
   ]
  }
 ],
 "metadata": {
  "kernelspec": {
   "display_name": "gpuPython10",
   "language": "python",
   "name": "python3"
  },
  "language_info": {
   "codemirror_mode": {
    "name": "ipython",
    "version": 3
   },
   "file_extension": ".py",
   "mimetype": "text/x-python",
   "name": "python",
   "nbconvert_exporter": "python",
   "pygments_lexer": "ipython3",
   "version": "3.10.13"
  }
 },
 "nbformat": 4,
 "nbformat_minor": 2
}
