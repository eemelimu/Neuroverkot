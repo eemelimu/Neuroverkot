{
 "cells": [
  {
   "cell_type": "code",
   "execution_count": 55,
   "metadata": {},
   "outputs": [],
   "source": [
    "import torch\n",
    "import torch.nn as nn\n",
    "import torch.optim as optim\n",
    "import pandas as pd\n",
    "import numpy as np\n",
    "from sklearn.model_selection import train_test_split\n",
    "from sklearn.preprocessing import LabelEncoder\n",
    "from torch.utils.data import DataLoader, TensorDataset\n",
    "import torch.nn.functional as F\n",
    "import warnings\n",
    "warnings.simplefilter(action='ignore')"
   ]
  },
  {
   "cell_type": "code",
   "execution_count": 56,
   "metadata": {},
   "outputs": [],
   "source": [
    "url = 'https://archive.ics.uci.edu/ml/machine-learning-databases/iris/iris.data'\n",
    "columns = ['sepal_length', 'sepal_width', 'petal_length', 'petal_width', 'species']\n",
    "data = pd.read_csv(url, names=columns)\n",
    "\n",
    "X = data.drop('species', axis=1).values\n",
    "y = data['species'].values\n",
    "\n",
    "y = LabelEncoder().fit_transform(y)\n",
    "y = torch.tensor(y, dtype=torch.long)\n",
    "X = torch.tensor(X, dtype=torch.float32)\n",
    "\n",
    "X_train, X_val, y_train, y_val = train_test_split(X, y, test_size=0.2, random_state=42)\n",
    "\n",
    "X_train = torch.tensor(X_train, dtype=torch.float32)\n",
    "y_train = torch.tensor(y_train, dtype=torch.long)\n",
    "X_val = torch.tensor(X_val, dtype=torch.float32)\n",
    "y_val = torch.tensor(y_val, dtype=torch.long)"
   ]
  },
  {
   "cell_type": "code",
   "execution_count": 57,
   "metadata": {},
   "outputs": [],
   "source": [
    "class neuroverkko(nn.Module):\n",
    "    def __init__(self):\n",
    "        super(neuroverkko, self).__init__()\n",
    "        self.hidden = nn.Linear(4, 10)  # Piilotettu kerros, jossa 10 neuronia\n",
    "        self.output = nn.Linear(10, 3)  # Ulostulokerros, jossa 3 neuronia\n",
    "\n",
    "    def forward(self, x):\n",
    "        x = torch.relu(self.hidden(x))  # Aktivointifunktio piilotetussa kerroksessa\n",
    "        x = self.output(x)  # Ulostulo ilman softmaxia (CrossEntropyLoss hoitaa tämän)\n",
    "        return x\n",
    "\n",
    "model = neuroverkko()"
   ]
  },
  {
   "cell_type": "code",
   "execution_count": 58,
   "metadata": {},
   "outputs": [
    {
     "name": "stdout",
     "output_type": "stream",
     "text": [
      "Epoch 1, Loss: 1.1407, Validation Accuracy: 36.67%\n",
      "Epoch 2, Loss: 1.1043, Validation Accuracy: 36.67%\n",
      "Epoch 3, Loss: 1.0667, Validation Accuracy: 36.67%\n",
      "Epoch 4, Loss: 1.0279, Validation Accuracy: 36.67%\n",
      "Epoch 5, Loss: 0.9932, Validation Accuracy: 36.67%\n",
      "Epoch 6, Loss: 0.9644, Validation Accuracy: 36.67%\n",
      "Epoch 7, Loss: 0.9389, Validation Accuracy: 43.33%\n",
      "Epoch 8, Loss: 0.9143, Validation Accuracy: 70.00%\n",
      "Epoch 9, Loss: 0.8895, Validation Accuracy: 70.00%\n",
      "Epoch 10, Loss: 0.8641, Validation Accuracy: 70.00%\n",
      "Epoch 11, Loss: 0.8374, Validation Accuracy: 70.00%\n",
      "Epoch 12, Loss: 0.8133, Validation Accuracy: 70.00%\n",
      "Epoch 13, Loss: 0.7931, Validation Accuracy: 70.00%\n",
      "Epoch 14, Loss: 0.7739, Validation Accuracy: 70.00%\n",
      "Epoch 15, Loss: 0.7545, Validation Accuracy: 70.00%\n",
      "Epoch 16, Loss: 0.7345, Validation Accuracy: 70.00%\n",
      "Epoch 17, Loss: 0.7147, Validation Accuracy: 73.33%\n",
      "Epoch 18, Loss: 0.6941, Validation Accuracy: 80.00%\n",
      "Epoch 19, Loss: 0.6729, Validation Accuracy: 80.00%\n",
      "Epoch 20, Loss: 0.6529, Validation Accuracy: 80.00%\n",
      "Epoch 21, Loss: 0.6340, Validation Accuracy: 80.00%\n",
      "Epoch 22, Loss: 0.6150, Validation Accuracy: 86.67%\n",
      "Epoch 23, Loss: 0.5962, Validation Accuracy: 83.33%\n",
      "Epoch 24, Loss: 0.5784, Validation Accuracy: 83.33%\n",
      "Epoch 25, Loss: 0.5614, Validation Accuracy: 80.00%\n",
      "Epoch 26, Loss: 0.5452, Validation Accuracy: 80.00%\n",
      "Epoch 27, Loss: 0.5304, Validation Accuracy: 80.00%\n",
      "Epoch 28, Loss: 0.5177, Validation Accuracy: 80.00%\n",
      "Epoch 29, Loss: 0.5055, Validation Accuracy: 80.00%\n",
      "Epoch 30, Loss: 0.4936, Validation Accuracy: 83.33%\n",
      "Epoch 31, Loss: 0.4817, Validation Accuracy: 83.33%\n",
      "Epoch 32, Loss: 0.4702, Validation Accuracy: 83.33%\n",
      "Epoch 33, Loss: 0.4593, Validation Accuracy: 90.00%\n",
      "Epoch 34, Loss: 0.4490, Validation Accuracy: 90.00%\n",
      "Epoch 35, Loss: 0.4396, Validation Accuracy: 96.67%\n",
      "Epoch 36, Loss: 0.4307, Validation Accuracy: 96.67%\n",
      "Epoch 37, Loss: 0.4220, Validation Accuracy: 100.00%\n",
      "Epoch 38, Loss: 0.4132, Validation Accuracy: 100.00%\n",
      "Epoch 39, Loss: 0.4046, Validation Accuracy: 100.00%\n",
      "Epoch 40, Loss: 0.3963, Validation Accuracy: 100.00%\n",
      "Epoch 41, Loss: 0.3884, Validation Accuracy: 100.00%\n",
      "Epoch 42, Loss: 0.3808, Validation Accuracy: 100.00%\n",
      "Epoch 43, Loss: 0.3734, Validation Accuracy: 100.00%\n",
      "Epoch 44, Loss: 0.3660, Validation Accuracy: 100.00%\n",
      "Epoch 45, Loss: 0.3588, Validation Accuracy: 100.00%\n",
      "Epoch 46, Loss: 0.3517, Validation Accuracy: 100.00%\n",
      "Epoch 47, Loss: 0.3447, Validation Accuracy: 100.00%\n",
      "Epoch 48, Loss: 0.3380, Validation Accuracy: 100.00%\n",
      "Epoch 49, Loss: 0.3313, Validation Accuracy: 100.00%\n",
      "Epoch 50, Loss: 0.3247, Validation Accuracy: 100.00%\n"
     ]
    }
   ],
   "source": [
    "# Tappiofunktio ja optimoija\n",
    "criterion = nn.CrossEntropyLoss()\n",
    "optimizer = optim.Adam(model.parameters(), lr=0.01)\n",
    "\n",
    "# Koulutussilmukka\n",
    "for epoch in range(50):  # Kouluta 50 kertaa\n",
    "    model.train()  # Laita malli koulutustilaan\n",
    "    optimizer.zero_grad()  # Nollaa vanhat gradit\n",
    "    outputs = model(X_train)  # Syötä koulutusdata mallille\n",
    "    loss = criterion(outputs, y_train)  # Laske tappio\n",
    "    loss.backward()  # Laske gradit\n",
    "    optimizer.step()  # Päivitä painot\n",
    "    \n",
    "    # Lasketaan tarkkuus validointidatalla\n",
    "    model.eval()  # Laita malli arviointitilaan\n",
    "    with torch.no_grad():  # Ei lasketa gradientteja\n",
    "        val_outputs = model(X_val)\n",
    "        _, predicted = torch.max(val_outputs, 1)  # Valitsee suurimman ennusteen\n",
    "        accuracy = (predicted == y_val).sum().item() / y_val.size(0) * 100\n",
    "\n",
    "    print(f\"Epoch {epoch+1}, Loss: {loss.item():.4f}, Validation Accuracy: {accuracy:.2f}%\")\n"
   ]
  },
  {
   "cell_type": "code",
   "execution_count": null,
   "metadata": {},
   "outputs": [],
   "source": []
  }
 ],
 "metadata": {
  "kernelspec": {
   "display_name": "gpu",
   "language": "python",
   "name": "python3"
  },
  "language_info": {
   "codemirror_mode": {
    "name": "ipython",
    "version": 3
   },
   "file_extension": ".py",
   "mimetype": "text/x-python",
   "name": "python",
   "nbconvert_exporter": "python",
   "pygments_lexer": "ipython3",
   "version": "3.12.7"
  }
 },
 "nbformat": 4,
 "nbformat_minor": 2
}
