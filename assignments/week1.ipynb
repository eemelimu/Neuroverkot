{
 "cells": [
  {
   "cell_type": "code",
   "execution_count": 2,
   "metadata": {},
   "outputs": [],
   "source": [
    "import torch\n",
    "import torch.nn as nn\n",
    "import torch.optim as optim\n",
    "import pandas as pd\n",
    "import numpy as np\n",
    "from sklearn.model_selection import train_test_split\n",
    "from sklearn.datasets import load_iris\n",
    "from torch.utils.data import DataLoader, TensorDataset\n",
    "import torch.nn.functional as F\n",
    "import warnings\n",
    "warnings.simplefilter(action='ignore')"
   ]
  },
  {
   "cell_type": "markdown",
   "metadata": {},
   "source": [
    "Vaihe 1<br>\n",
    "Iris-darasetin voi ladata suoraan sklearn.datasets-kirjastosta komennolla load_iris(), ja se laitetaan X ja y muuttujiin, jossa X on ominaisuusmatriisi ja y on target-muuttuja.<br>\n",
    "\n",
    "Vaihe 2<br>\n",
    "Data jaetaan training ja validaatiodataan.<br>\n",
    "\n",
    "Vaihe 3<br>\n",
    "Muunnetaan Numpy-taulukot tensoriksi: X_train ja X_val muutetaan float32 ja y_train ja y_val muutetaan long(kokonaislukuihin, koska luokkamerkinnät ovat 0, 1 ja 2)<br>\n",
    "\n",
    "Vaihe 4<br>\n",
    "Luodaan TensorDataset-objektit: yhdistetään X_train ja y_train ja X_val ja y_val tensorit yhdeksi TensorDataset-objektiksi.<br>\n",
    "\n",
    "Vaihe 5<br>\n",
    "Luodaan DataLoader-objektit: Se mahdollistaa datan lataamisen pienissä erissä ja satunnaisessa järjestyksessä."
   ]
  },
  {
   "cell_type": "code",
   "execution_count": 3,
   "metadata": {},
   "outputs": [],
   "source": [
    "#1\n",
    "iris = load_iris()\n",
    "X = iris.data\n",
    "y = iris.target\n",
    "\n",
    "#2\n",
    "X_train, X_val, y_train, y_val = train_test_split(X, y, test_size=0.2, random_state=42)\n",
    "\n",
    "#3\n",
    "X_train = torch.tensor(X_train, dtype=torch.float32)\n",
    "y_train = torch.tensor(y_train, dtype=torch.long)\n",
    "X_val = torch.tensor(X_val, dtype=torch.float32)\n",
    "y_val = torch.tensor(y_val, dtype=torch.long)\n",
    "\n",
    "#4\n",
    "train_dataset = TensorDataset(X_train, y_train)\n",
    "val_dataset = TensorDataset(X_val, y_val)\n",
    "\n",
    "#5\n",
    "train_loader = DataLoader(train_dataset, batch_size=16, shuffle=True)\n",
    "val_loader = DataLoader(val_dataset, batch_size=16, shuffle=False)"
   ]
  },
  {
   "cell_type": "markdown",
   "metadata": {},
   "source": [
    "Seuraavassa koodisolussa määritellään yksinkertainen neuroverkkomalli PyTorchilla. Se perii nn.Module-luokan, joka on pytorchin perusluokka malleille.<br>\n",
    "- self.hidden: Lineaarinen piilokerros, joka ottaa 4 sisääntuloa (koska datasetillä on 4 ominaisuutta) ja tuottaa 10 ulostuloa.\n",
    "- self.output: Lineaarinen ulostulokerros, joka ottaa 10 sisääntuloa ja tuottaa 3 ulostuloa (koska datasetillä on 3 luokkaa).<br>\n",
    "\n",
    "forward(): Määrittelee laskentapolun syötteestä ulostuloon eli mitä mallin tulee tehdä, kun sille syötetään dataa.\n",
    "- x = torch.relu: Laskee piilotetun kerroksen arvot,\n",
    "- x = self.output: Laskee ulostulokerroksen arvot ilman aktivointia. CrossEntropyLoss-luokka laskee softmaxin automaattisesti."
   ]
  },
  {
   "cell_type": "code",
   "execution_count": 5,
   "metadata": {},
   "outputs": [],
   "source": [
    "class neuroverkko(nn.Module):\n",
    "    def __init__(self):\n",
    "        super(neuroverkko, self).__init__()\n",
    "        self.hidden = nn.Linear(4, 10) \n",
    "        self.output = nn.Linear(10, 3)\n",
    "\n",
    "    def forward(self, x):\n",
    "        x = torch.relu(self.hidden(x))\n",
    "        x = self.output(x)\n",
    "        return x\n",
    "\n",
    "model = neuroverkko()"
   ]
  },
  {
   "cell_type": "markdown",
   "metadata": {},
   "source": [
    "Seuraavassa solussa toteutetaan neuroverkon koulutus- ja validointisilmukka käyttäen PyTorchia.<br>\n",
    "Ensiksi määritellään tappiofunktio ja optimointialgoritmi. Koulutusloopissa käydään läpi mallin koulutus 20 kertaa (epookia).<br>\n",
    "- model.train(): Asettaa mallin koulutustilaan.\n",
    "- correct_train = 0 ja total_train = 0: Asetetaan laskurit koulutustarkkuuden mittaamiseksi.\n",
    "- for batch_X, batch_y in train_loader: Käydään läpi koulutusdata pienissä erissä, jonka jälkeen lasketaan koulutustarkkuus."
   ]
  },
  {
   "cell_type": "code",
   "execution_count": 6,
   "metadata": {},
   "outputs": [
    {
     "name": "stdout",
     "output_type": "stream",
     "text": [
      "Epoch 1, Loss: 1.0917, Train Accuracy: 39.17%, Validation Accuracy: 70.00%\n",
      "Epoch 2, Loss: 0.9974, Train Accuracy: 65.83%, Validation Accuracy: 70.00%\n",
      "Epoch 3, Loss: 1.0242, Train Accuracy: 65.83%, Validation Accuracy: 70.00%\n",
      "Epoch 4, Loss: 0.8637, Train Accuracy: 65.83%, Validation Accuracy: 70.00%\n",
      "Epoch 5, Loss: 0.7514, Train Accuracy: 65.83%, Validation Accuracy: 70.00%\n",
      "Epoch 6, Loss: 0.6796, Train Accuracy: 66.67%, Validation Accuracy: 70.00%\n",
      "Epoch 7, Loss: 0.5668, Train Accuracy: 70.00%, Validation Accuracy: 70.00%\n",
      "Epoch 8, Loss: 0.7530, Train Accuracy: 70.00%, Validation Accuracy: 70.00%\n",
      "Epoch 9, Loss: 0.5983, Train Accuracy: 69.17%, Validation Accuracy: 70.00%\n",
      "Epoch 10, Loss: 0.7891, Train Accuracy: 76.67%, Validation Accuracy: 83.33%\n",
      "Epoch 11, Loss: 0.6067, Train Accuracy: 84.17%, Validation Accuracy: 83.33%\n",
      "Epoch 12, Loss: 0.4327, Train Accuracy: 89.17%, Validation Accuracy: 86.67%\n",
      "Epoch 13, Loss: 0.4579, Train Accuracy: 90.00%, Validation Accuracy: 86.67%\n",
      "Epoch 14, Loss: 0.5679, Train Accuracy: 93.33%, Validation Accuracy: 96.67%\n",
      "Epoch 15, Loss: 0.4943, Train Accuracy: 91.67%, Validation Accuracy: 86.67%\n",
      "Epoch 16, Loss: 0.4195, Train Accuracy: 95.00%, Validation Accuracy: 100.00%\n",
      "Epoch 17, Loss: 0.3508, Train Accuracy: 95.00%, Validation Accuracy: 96.67%\n",
      "Epoch 18, Loss: 0.4957, Train Accuracy: 95.00%, Validation Accuracy: 96.67%\n",
      "Epoch 19, Loss: 0.4557, Train Accuracy: 95.00%, Validation Accuracy: 100.00%\n",
      "Epoch 20, Loss: 0.2248, Train Accuracy: 95.83%, Validation Accuracy: 100.00%\n"
     ]
    }
   ],
   "source": [
    "criterion = nn.CrossEntropyLoss()\n",
    "optimizer = optim.Adam(model.parameters(), lr=0.005)\n",
    "for epoch in range(20):\n",
    "    model.train()\n",
    "    correct_train = 0\n",
    "    total_train = 0\n",
    "    for batch_X, batch_y in train_loader:\n",
    "        optimizer.zero_grad()\n",
    "        outputs = model(batch_X)\n",
    "        loss = criterion(outputs, batch_y)\n",
    "        loss.backward()\n",
    "        optimizer.step()\n",
    "        \n",
    "        _, predicted_train = torch.max(outputs, 1)\n",
    "        total_train += batch_y.size(0)\n",
    "        correct_train += (predicted_train == batch_y).sum().item()\n",
    "    train_accuracy = 100 * correct_train / total_train\n",
    "\n",
    "    model.eval()\n",
    "    correct_val = 0\n",
    "    total_val = 0\n",
    "    with torch.no_grad():\n",
    "        for batch_X, batch_y in val_loader:\n",
    "            val_outputs = model(batch_X)\n",
    "            _, predicted_val = torch.max(val_outputs, 1)\n",
    "            total_val += batch_y.size(0)\n",
    "            correct_val += (predicted_val == batch_y).sum().item()\n",
    "    val_accuracy = 100 * correct_val / total_val\n",
    "\n",
    "    print(f\"Epoch {epoch + 1}, Loss: {loss.item():.4f}, Train Accuracy: {train_accuracy:.2f}%, Validation Accuracy: {val_accuracy:.2f}%\")"
   ]
  }
 ],
 "metadata": {
  "kernelspec": {
   "display_name": "nvidiaGPU",
   "language": "python",
   "name": "python3"
  },
  "language_info": {
   "codemirror_mode": {
    "name": "ipython",
    "version": 3
   },
   "file_extension": ".py",
   "mimetype": "text/x-python",
   "name": "python",
   "nbconvert_exporter": "python",
   "pygments_lexer": "ipython3",
   "version": "3.12.7"
  }
 },
 "nbformat": 4,
 "nbformat_minor": 2
}
