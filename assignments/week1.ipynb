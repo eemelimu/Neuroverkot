{
 "cells": [
  {
   "cell_type": "code",
   "execution_count": 99,
   "metadata": {},
   "outputs": [],
   "source": [
    "import torch\n",
    "import torch.nn as nn\n",
    "import torch.optim as optim\n",
    "import pandas as pd\n",
    "import numpy as np\n",
    "from sklearn.model_selection import train_test_split\n",
    "from torch.utils.data import DataLoader, TensorDataset\n",
    "import torch.nn.functional as F\n",
    "import warnings\n",
    "warnings.simplefilter(action='ignore')"
   ]
  },
  {
   "cell_type": "code",
   "execution_count": 96,
   "metadata": {},
   "outputs": [],
   "source": [
    "iris = load_iris()\n",
    "X = iris.data\n",
    "y = iris.target\n",
    "\n",
    "X_train, X_val, y_train, y_val = train_test_split(X, y, test_size=0.2, random_state=42)\n",
    "\n",
    "X_train = torch.tensor(X_train, dtype=torch.float32)\n",
    "y_train = torch.tensor(y_train, dtype=torch.long)\n",
    "X_val = torch.tensor(X_val, dtype=torch.float32)\n",
    "y_val = torch.tensor(y_val, dtype=torch.long)\n",
    "\n",
    "train_dataset = TensorDataset(X_train, y_train)\n",
    "val_dataset = TensorDataset(X_val, y_val)\n",
    "\n",
    "train_loader = DataLoader(train_dataset, batch_size=16, shuffle=True)\n",
    "val_loader = DataLoader(val_dataset, batch_size=16, shuffle=False)"
   ]
  },
  {
   "cell_type": "code",
   "execution_count": 97,
   "metadata": {},
   "outputs": [],
   "source": [
    "class neuroverkko(nn.Module):\n",
    "    def __init__(self):\n",
    "        super(neuroverkko, self).__init__()\n",
    "        self.hidden = nn.Linear(4, 10)  # Piilotettu kerros, jossa 10 neuronia\n",
    "        self.output = nn.Linear(10, 3)  # Ulostulokerros, jossa 3 neuronia\n",
    "\n",
    "    def forward(self, x):\n",
    "        x = torch.relu(self.hidden(x))  # Aktivointifunktio piilotetussa kerroksessa\n",
    "        x = self.output(x)  # Ulostulo ilman softmaxia (CrossEntropyLoss hoitaa tämän)\n",
    "        return x\n",
    "\n",
    "model = neuroverkko()"
   ]
  },
  {
   "cell_type": "code",
   "execution_count": 98,
   "metadata": {},
   "outputs": [
    {
     "name": "stdout",
     "output_type": "stream",
     "text": [
      "Epoch 1, Accuracy: 33.33%\n",
      "Epoch 2, Accuracy: 33.33%\n",
      "Epoch 3, Accuracy: 33.33%\n",
      "Epoch 4, Accuracy: 33.33%\n",
      "Epoch 5, Accuracy: 33.33%\n",
      "Epoch 6, Accuracy: 33.33%\n",
      "Epoch 7, Accuracy: 33.33%\n",
      "Epoch 8, Accuracy: 33.33%\n",
      "Epoch 9, Accuracy: 33.33%\n",
      "Epoch 10, Accuracy: 33.33%\n",
      "Epoch 11, Accuracy: 33.33%\n",
      "Epoch 12, Accuracy: 33.33%\n",
      "Epoch 13, Accuracy: 33.33%\n",
      "Epoch 14, Accuracy: 33.33%\n",
      "Epoch 15, Accuracy: 33.33%\n",
      "Epoch 16, Accuracy: 33.33%\n",
      "Epoch 17, Accuracy: 33.33%\n",
      "Epoch 18, Accuracy: 33.33%\n",
      "Epoch 19, Accuracy: 33.33%\n",
      "Epoch 20, Accuracy: 33.33%\n",
      "Epoch 21, Accuracy: 33.33%\n",
      "Epoch 22, Accuracy: 33.33%\n",
      "Epoch 23, Accuracy: 33.33%\n",
      "Epoch 24, Accuracy: 33.33%\n",
      "Epoch 25, Accuracy: 33.33%\n",
      "Epoch 26, Accuracy: 33.33%\n",
      "Epoch 27, Accuracy: 33.33%\n",
      "Epoch 28, Accuracy: 33.33%\n",
      "Epoch 29, Accuracy: 33.33%\n",
      "Epoch 30, Accuracy: 33.33%\n",
      "Epoch 31, Accuracy: 33.33%\n",
      "Epoch 32, Accuracy: 33.33%\n",
      "Epoch 33, Accuracy: 33.33%\n",
      "Epoch 34, Accuracy: 33.33%\n",
      "Epoch 35, Accuracy: 33.33%\n",
      "Epoch 36, Accuracy: 33.33%\n",
      "Epoch 37, Accuracy: 33.33%\n",
      "Epoch 38, Accuracy: 33.33%\n",
      "Epoch 39, Accuracy: 33.33%\n",
      "Epoch 40, Accuracy: 33.33%\n",
      "Epoch 41, Accuracy: 33.33%\n",
      "Epoch 42, Accuracy: 33.33%\n",
      "Epoch 43, Accuracy: 33.33%\n",
      "Epoch 44, Accuracy: 33.33%\n",
      "Epoch 45, Accuracy: 33.33%\n",
      "Epoch 46, Accuracy: 33.33%\n",
      "Epoch 47, Accuracy: 33.33%\n",
      "Epoch 48, Accuracy: 33.33%\n",
      "Epoch 49, Accuracy: 33.33%\n",
      "Epoch 50, Accuracy: 33.33%\n"
     ]
    }
   ],
   "source": [
    "# Koulutussilmukka\n",
    "for epoch in range(50):  # Kouluta 50 epookkia\n",
    "    model.train()  # Laita malli koulutustilaan\n",
    "    for batch_X, batch_y in train_loader:\n",
    "        optimizer.zero_grad()  # Nollaa vanhat gradit\n",
    "        outputs = model(batch_X)  # Syötä yksi batch dataa mallille\n",
    "        loss = criterion(outputs, batch_y)  # Laske tappio tälle batchille\n",
    "        loss.backward()  # Laske gradit\n",
    "        optimizer.step()  # Päivitä painot\n",
    "\n",
    "    # Lasketaan tarkkuus validointidatalla\n",
    "    model.eval()  # Laita malli arviointitilaan\n",
    "    correct = 0\n",
    "    total = 0\n",
    "    with torch.no_grad():  # Ei lasketa gradientteja validoinnissa\n",
    "        for batch_X, batch_y in val_loader:\n",
    "            val_outputs = model(batch_X)\n",
    "            _, predicted = torch.max(val_outputs, 1)\n",
    "            total += batch_y.size(0)\n",
    "            correct += (predicted == batch_y).sum().item()\n",
    "    \n",
    "    accuracy = 100 * correct / total\n",
    "    print(f\"Epoch {epoch+1}, Accuracy: {accuracy:.2f}%\")\n"
   ]
  },
  {
   "cell_type": "code",
   "execution_count": null,
   "metadata": {},
   "outputs": [],
   "source": []
  }
 ],
 "metadata": {
  "kernelspec": {
   "display_name": "gpu",
   "language": "python",
   "name": "python3"
  },
  "language_info": {
   "codemirror_mode": {
    "name": "ipython",
    "version": 3
   },
   "file_extension": ".py",
   "mimetype": "text/x-python",
   "name": "python",
   "nbconvert_exporter": "python",
   "pygments_lexer": "ipython3",
   "version": "3.12.7"
  }
 },
 "nbformat": 4,
 "nbformat_minor": 2
}
