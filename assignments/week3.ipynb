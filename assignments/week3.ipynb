{
 "cells": [
  {
   "cell_type": "code",
   "execution_count": 1,
   "metadata": {},
   "outputs": [],
   "source": [
    "import numpy as np\n",
    "from keras.applications import vgg16\n",
    "from tensorflow.keras.datasets import cifar10\n",
    "from tensorflow.keras.utils import to_categorical\n",
    "from tensorflow.keras import models, layers\n",
    "import matplotlib.pyplot as plt\n",
    "import warnings\n",
    "warnings.filterwarnings('ignore')"
   ]
  },
  {
   "cell_type": "markdown",
   "metadata": {},
   "source": [
    "Ladataan CIFAR-10 datasetti, jaetaan validaatiojoukkoon, normalisoidaan kuvat ja muunnetaan etiketit kategoriamuotoon."
   ]
  },
  {
   "cell_type": "code",
   "execution_count": 2,
   "metadata": {},
   "outputs": [],
   "source": [
    "(x_train, y_train), (x_test, y_test) = cifar10.load_data()\n",
    "\n",
    "x_val = x_train[:5000]\n",
    "y_val = y_train[:5000]\n",
    "x_train = x_train[5000:]\n",
    "y_train = y_train[5000:]\n",
    "\n",
    "x_train, x_val, x_test = x_train / 255.0, x_val / 255.0, x_test / 255.0\n",
    "\n",
    "y_train = to_categorical(y_train, 10)\n",
    "y_val = to_categorical(y_val, 10)\n",
    "y_test = to_categorical(y_test, 10)"
   ]
  },
  {
   "cell_type": "markdown",
   "metadata": {},
   "source": [
    "Ladataan VGG-16 ilman dense-luokittelijakerroksia ja asetetaan mallin mainot olemaan oppimattomia, koska ei haluta muuttaa esikoulutetuja konvoluutioalustan painoja nopeuden vuoksi ja säilyttääksemme mallin tarkkuuden. Tämän avulla voimme käyttää VGG-16:ta feature extractorina, eli saadaan tiivistetyt piirteet jokaisesta kuvasta."
   ]
  },
  {
   "cell_type": "code",
   "execution_count": 3,
   "metadata": {},
   "outputs": [
    {
     "name": "stdout",
     "output_type": "stream",
     "text": [
      "1407/1407 [==============================] - 82s 58ms/step\n",
      "157/157 [==============================] - 9s 58ms/step\n",
      "313/313 [==============================] - 19s 61ms/step\n"
     ]
    }
   ],
   "source": [
    "conv_base = vgg16.VGG16(weights='imagenet', include_top=False, input_shape=(32, 32, 3))\n",
    "conv_base.trainable = False\n",
    "\n",
    "def extract_features(data):\n",
    "    return conv_base.predict(data)\n",
    "\n",
    "x_train_features = extract_features(x_train)\n",
    "x_val_features = extract_features(x_val)\n",
    "x_test_features = extract_features(x_test)"
   ]
  },
  {
   "cell_type": "markdown",
   "metadata": {},
   "source": [
    "Rakennetaan yksinkertainen dense-pohjainen luokittelija esikäsiteltyjen ominaisuuksien perusteella käyttäen kahta dense-kerrosta, jossa ensimmäisessä on aktivaatiofunktiona ReLU ja lopussa softmax-luokittelukerros ja kompiloidaan se käyttäen Adam-optimointia ja kategorista ristientropiaa."
   ]
  },
  {
   "cell_type": "code",
   "execution_count": 4,
   "metadata": {},
   "outputs": [
    {
     "name": "stdout",
     "output_type": "stream",
     "text": [
      "Model: \"sequential\"\n",
      "_________________________________________________________________\n",
      " Layer (type)                Output Shape              Param #   \n",
      "=================================================================\n",
      " flatten (Flatten)           (None, 512)               0         \n",
      "                                                                 \n",
      " dense (Dense)               (None, 256)               131328    \n",
      "                                                                 \n",
      " dropout (Dropout)           (None, 256)               0         \n",
      "                                                                 \n",
      " dense_1 (Dense)             (None, 10)                2570      \n",
      "                                                                 \n",
      "=================================================================\n",
      "Total params: 133,898\n",
      "Trainable params: 133,898\n",
      "Non-trainable params: 0\n",
      "_________________________________________________________________\n"
     ]
    }
   ],
   "source": [
    "malli = models.Sequential([\n",
    "    layers.Input(shape=x_train_features.shape[1:]),\n",
    "    layers.Flatten(),\n",
    "    layers.Dense(256, activation='relu'),\n",
    "    layers.Dropout(0.3),\n",
    "    layers.Dense(10, activation='softmax')\n",
    "])\n",
    "\n",
    "malli.compile(optimizer='adam',\n",
    "              loss='categorical_crossentropy',\n",
    "              metrics=['accuracy'])\n",
    "\n",
    "malli.summary()"
   ]
  },
  {
   "cell_type": "code",
   "execution_count": 5,
   "metadata": {},
   "outputs": [
    {
     "name": "stdout",
     "output_type": "stream",
     "text": [
      "Epoch 1/10\n",
      "1407/1407 [==============================] - 3s 2ms/step - loss: 1.4325 - accuracy: 0.4975 - val_loss: 1.2483 - val_accuracy: 0.5692\n",
      "Epoch 2/10\n",
      "1407/1407 [==============================] - 2s 2ms/step - loss: 1.2407 - accuracy: 0.5665 - val_loss: 1.1729 - val_accuracy: 0.5870\n",
      "Epoch 3/10\n",
      "1407/1407 [==============================] - 2s 1ms/step - loss: 1.1803 - accuracy: 0.5876 - val_loss: 1.1473 - val_accuracy: 0.5994\n",
      "Epoch 4/10\n",
      "1407/1407 [==============================] - 2s 1ms/step - loss: 1.1439 - accuracy: 0.5999 - val_loss: 1.1348 - val_accuracy: 0.6000\n",
      "Epoch 5/10\n",
      "1407/1407 [==============================] - 2s 1ms/step - loss: 1.1102 - accuracy: 0.6102 - val_loss: 1.1158 - val_accuracy: 0.6138\n",
      "Epoch 6/10\n",
      "1407/1407 [==============================] - 2s 1ms/step - loss: 1.0841 - accuracy: 0.6205 - val_loss: 1.1063 - val_accuracy: 0.6088\n",
      "Epoch 7/10\n",
      "1407/1407 [==============================] - 2s 1ms/step - loss: 1.0637 - accuracy: 0.6259 - val_loss: 1.0939 - val_accuracy: 0.6206\n",
      "Epoch 8/10\n",
      "1407/1407 [==============================] - 2s 1ms/step - loss: 1.0396 - accuracy: 0.6342 - val_loss: 1.0888 - val_accuracy: 0.6198\n",
      "Epoch 9/10\n",
      "1407/1407 [==============================] - 2s 2ms/step - loss: 1.0214 - accuracy: 0.6422 - val_loss: 1.1018 - val_accuracy: 0.6226\n",
      "Epoch 10/10\n",
      "1407/1407 [==============================] - 2s 1ms/step - loss: 1.0020 - accuracy: 0.6465 - val_loss: 1.0920 - val_accuracy: 0.6248\n"
     ]
    }
   ],
   "source": [
    "history = malli.fit(x_train_features, y_train,\n",
    "                    epochs=10,\n",
    "                    batch_size=32,\n",
    "                    validation_data=(x_val_features, y_val))"
   ]
  },
  {
   "cell_type": "code",
   "execution_count": 7,
   "metadata": {},
   "outputs": [
    {
     "name": "stdout",
     "output_type": "stream",
     "text": [
      "313/313 [==============================] - 0s 850us/step - loss: 1.1105 - accuracy: 0.6104\n",
      "Test accuracy: 0.6104000210762024\n"
     ]
    }
   ],
   "source": [
    "test_loss, test_acc = malli.evaluate(x_test_features, y_test)\n",
    "print('Test accuracy:', test_acc)"
   ]
  },
  {
   "cell_type": "code",
   "execution_count": null,
   "metadata": {},
   "outputs": [
    {
     "ename": "",
     "evalue": "",
     "output_type": "error",
     "traceback": [
      "\u001b[1;31mThe Kernel crashed while executing code in the current cell or a previous cell. \n",
      "\u001b[1;31mPlease review the code in the cell(s) to identify a possible cause of the failure. \n",
      "\u001b[1;31mClick <a href='https://aka.ms/vscodeJupyterKernelCrash'>here</a> for more info. \n",
      "\u001b[1;31mView Jupyter <a href='command:jupyter.viewOutput'>log</a> for further details."
     ]
    }
   ],
   "source": [
    "# plt.plot(history.history['accuracy'], label='Train Accuracy')\n",
    "# plt.plot(history.history['val_accuracy'], label='Validation Accuracy')\n",
    "\n",
    "# plt.title('Model Accuracy')\n",
    "# plt.xlabel('Epochs')\n",
    "# plt.ylabel('Accuracy')\n",
    "# plt.legend()\n",
    "# plt.show()"
   ]
  },
  {
   "cell_type": "code",
   "execution_count": null,
   "metadata": {},
   "outputs": [],
   "source": []
  }
 ],
 "metadata": {
  "kernelspec": {
   "display_name": "gpuPython10",
   "language": "python",
   "name": "python3"
  },
  "language_info": {
   "codemirror_mode": {
    "name": "ipython",
    "version": 3
   },
   "file_extension": ".py",
   "mimetype": "text/x-python",
   "name": "python",
   "nbconvert_exporter": "python",
   "pygments_lexer": "ipython3",
   "version": "3.10.15"
  }
 },
 "nbformat": 4,
 "nbformat_minor": 2
}
